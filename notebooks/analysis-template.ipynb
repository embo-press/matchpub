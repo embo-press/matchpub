{
 "cells": [
  {
   "cell_type": "markdown",
   "metadata": {},
   "source": [
    "## Setup"
   ]
  },
  {
   "cell_type": "code",
   "execution_count": null,
   "metadata": {},
   "outputs": [],
   "source": [
    "from pathlib import Path\n",
    "from argparse import ArgumentParser\n",
    "\n",
    "import pandas as pd\n",
    "import plotly.express as px\n",
    "from plotly.graph_objects import Figure"
   ]
  },
  {
   "cell_type": "code",
   "execution_count": null,
   "metadata": {},
   "outputs": [],
   "source": [
    "import sys\n",
    "import os\n",
    "\n",
    "app = \"/app\"\n",
    "if app not in sys.path:\n",
    "    sys.path.append(app)"
   ]
  },
  {
   "cell_type": "code",
   "execution_count": null,
   "metadata": {},
   "outputs": [],
   "source": [
    "from src.reports import (\n",
    "    CitationDistributionViolin,\n",
    "    CitationDistributionHisto,\n",
    "    JournalDistributionTreeMap,\n",
    "    Overview\n",
    ")"
   ]
  },
  {
   "cell_type": "code",
   "execution_count": null,
   "metadata": {},
   "outputs": [],
   "source": [
    "!ls /results"
   ]
  },
  {
   "cell_type": "markdown",
   "metadata": {},
   "source": [
    "## Visualization"
   ]
  },
  {
   "cell_type": "code",
   "execution_count": null,
   "metadata": {},
   "outputs": [],
   "source": [
    "input_path = \"/results/<result_filename_found_articles>.xlsx\"\n",
    "not_found_path = input_path.replace(\"found\", \"not_found\")\n",
    "found = pd.read_excel(input_path)\n",
    "not_found = pd.read_excel(not_found_path)"
   ]
  },
  {
   "cell_type": "code",
   "execution_count": null,
   "metadata": {},
   "outputs": [],
   "source": [
    "overview = Overview(found, not_found, input_path, save_to_disk=False)\n",
    "overview.fig.show()"
   ]
  },
  {
   "cell_type": "code",
   "execution_count": null,
   "metadata": {},
   "outputs": [],
   "source": [
    "jou_distro = JournalDistributionTreeMap(found, input_path, save_to_disk=False)\n",
    "jou_distro.fig.show()"
   ]
  },
  {
   "cell_type": "code",
   "execution_count": null,
   "metadata": {},
   "outputs": [],
   "source": [
    "cite_distro_violin = CitationDistributionViolin(found, input_path, save_to_disk=False)\n",
    "cite_distro_violin.fig.show()"
   ]
  },
  {
   "cell_type": "code",
   "execution_count": null,
   "metadata": {},
   "outputs": [],
   "source": [
    "cite_distro_histo = CitationDistributionHisto(found, input_path, save_to_disk=False)\n",
    "cite_distro_histo.fig.show()"
   ]
  }
 ],
 "metadata": {
  "interpreter": {
   "hash": "61bf37ce22ef34e47a8e0af817da387bb9e261d956ef16df2e0b7ed8299d10b5"
  },
  "kernelspec": {
   "display_name": "Python 3 (ipykernel)",
   "language": "python",
   "name": "python3"
  },
  "language_info": {
   "codemirror_mode": {
    "name": "ipython",
    "version": 3
   },
   "file_extension": ".py",
   "mimetype": "text/x-python",
   "name": "python",
   "nbconvert_exporter": "python",
   "pygments_lexer": "ipython3",
   "version": "3.7.9"
  }
 },
 "nbformat": 4,
 "nbformat_minor": 2
}
